{
 "cells": [
  {
   "cell_type": "code",
   "execution_count": null,
   "metadata": {},
   "outputs": [],
   "source": [
    "import pandas as pd\n",
    "import numpy as np\n",
    "import matplotlib.pyplot as plt\n",
    "from sklearn.model_selection import train_test_split\n",
    "from sklearn.metrics import mean_squared_error, mean_absolute_error\n",
    "from statsmodels.tsa.arima.model import ARIMA\n",
    "import warnings\n",
    "import pickle\n",
    "import gzip\n",
    "\n",
    "df = pd.read_csv('../Data/Border_Crossing_Entry_Data.csv')\n",
    "df.head()\n",
    "\n",
    "\n",
    "\n"
   ]
  },
  {
   "cell_type": "code",
   "execution_count": null,
   "metadata": {},
   "outputs": [],
   "source": [
    "# convert String date to datetime\n",
    "df['Date'] = pd.to_datetime(df['Date'])\n",
    "df['Port Name'].nunique()\n",
    "df = df[(df['Border'] == 'US-Mexico Border')]"
   ]
  },
  {
   "cell_type": "code",
   "execution_count": null,
   "metadata": {},
   "outputs": [],
   "source": [
    "# plotting border crossing volume over time\n",
    "plt.figure(figsize=(12, 6))\n",
    "df.set_index('Date')['Value'].plot()\n",
    "plt.title('Border Crossing Volume Over Time (All Ports)')\n",
    "plt.xlabel('Date')\n",
    "plt.ylabel('Border Crossing Volume (Ten Thousands)')\n",
    "plt.show()"
   ]
  },
  {
   "cell_type": "markdown",
   "metadata": {},
   "source": [
    "### Feature Engineering"
   ]
  },
  {
   "cell_type": "code",
   "execution_count": null,
   "metadata": {},
   "outputs": [],
   "source": [
    "\n",
    "lags = [1, 7, 30, 365]  # lag periods (in days)\n",
    "for lag in lags:\n",
    "    df[f'Latitude_Lag_{lag}'] = df['Latitude'].shift(lag)\n",
    "    df[f'Longitude_Lag_{lag}'] = df['Longitude'].shift(lag)"
   ]
  },
  {
   "cell_type": "code",
   "execution_count": null,
   "metadata": {},
   "outputs": [],
   "source": [
    "df.info()"
   ]
  },
  {
   "cell_type": "code",
   "execution_count": null,
   "metadata": {},
   "outputs": [],
   "source": [
    "df.isnull().sum()\n",
    "df.dropna(inplace=True)"
   ]
  },
  {
   "cell_type": "markdown",
   "metadata": {},
   "source": [
    "### Model Training"
   ]
  },
  {
   "cell_type": "code",
   "execution_count": null,
   "metadata": {},
   "outputs": [],
   "source": [
    "features = ['Latitude', 'Longitude', 'Date', 'Latitude_Lag_1', 'Longitude_Lag_1']\n",
    "target = 'Value'\n",
    "\n",
    "train_data = df[df['Date'] < '2022-01-01']  \n",
    "test_data = df[df['Date'] >= '2022-01-01']  \n",
    "\n",
    "X_train = train_data[features]\n",
    "y_train = train_data[target]\n",
    "X_test = test_data[features]\n",
    "y_test = test_data[target]\n",
    "\n",
    "print(\"Training set shape:\", X_train.shape, y_train.shape)\n",
    "print(\"Testing set shape:\", X_test.shape, y_test.shape)"
   ]
  },
  {
   "cell_type": "code",
   "execution_count": null,
   "metadata": {},
   "outputs": [],
   "source": [
    "# Fit Arima Model for Sumas Port\n",
    "\n",
    "train_sumas_data = train_data[train_data['Port Name'] == 'Sumas']\n",
    "y_train_sumas = train_sumas_data[target]\n",
    "\n",
    "order = (1, 0, 0)  # (p, d, q)\n",
    "model = ARIMA(y_train_sumas, order=order)\n",
    "trained_model = model.fit()\n",
    "\n",
    "\n",
    "test_sumas_data = test_data[test_data['Port Name'] == 'Sumas']\n",
    "y_test_sumas = test_sumas_data[target]\n",
    "forecast = trained_model.forecast(steps=len(y_test_sumas))\n",
    "\n",
    "rmse = np.sqrt(mean_squared_error(y_test_sumas, forecast))\n",
    "mae = mean_absolute_error(y_test_sumas, forecast)\n",
    "\n",
    "\n",
    "print(\"Mean Absolute Error:\", round(mae, 2))\n",
    "print(\"Root Mean Squared Error:\", round(rmse, 2))\n",
    "\n",
    "\n",
    "\n"
   ]
  },
  {
   "cell_type": "code",
   "execution_count": null,
   "metadata": {},
   "outputs": [],
   "source": [
    "# Fit Arima Model for all Ports\n",
    "\n",
    "trained_models = {}\n",
    "evaluation_metrics = {}\n",
    "\n",
    "for port_name in df['Port Name'].unique():\n",
    "    train_port_data = train_data[train_data['Port Name'] == port_name]\n",
    "    y_train_port = train_port_data[target]\n",
    "    \n",
    "    order = (1, 0, 0)  \n",
    "    model = ARIMA(y_train_port, order=order)\n",
    "    trained_model = model.fit()\n",
    "\n",
    "    trained_models[port_name] = trained_model\n",
    "    test_port_data = test_data[test_data['Port Name'] == port_name]\n",
    "    y_test_port = test_port_data[target]\n",
    "    \n",
    "    if len(test_port_data) > 0:\n",
    "        forecast = trained_model.forecast(steps=len(test_port_data))\n",
    "        \n",
    "        rmse = np.sqrt(mean_squared_error(y_test_port, forecast))\n",
    "        mae = mean_absolute_error(y_test_port, forecast)\n",
    "        \n",
    "        evaluation_metrics[port_name] = {'RMSE': rmse, 'MAE': mae}\n",
    "    else:\n",
    "        print(f\"Insufficient testing data available for port: {port_name}\")\n",
    "        # trained_models[port_name] = 'Insufficient data'\n",
    "        \n",
    "\n",
    "# Calculate average MAE and RMSE across all ports\n",
    "mae_values = [metrics['MAE'] for metrics in evaluation_metrics.values()]\n",
    "rmse_values = [metrics['RMSE'] for metrics in evaluation_metrics.values()]\n",
    "\n",
    "average_mae = np.mean(mae_values)\n",
    "average_rmse = np.mean(rmse_values)\n",
    "\n",
    "print(\"Average Mean Absolute Error across all ports:\", round(average_mae, 2))\n",
    "print(\"Average Root Mean Squared Error across all ports:\", round(average_rmse, 2))"
   ]
  },
  {
   "cell_type": "code",
   "execution_count": null,
   "metadata": {},
   "outputs": [],
   "source": [
    "# Predicted Value for Port Sumas 2 year in the future\n",
    "prediction_date = '2026-01-01'\n",
    "prediction_2026_01_01 = trained_model.forecast(steps=1, index=pd.to_datetime([prediction_date]))\n",
    "\n",
    "print(\"Predicted value for January 1, 2026 for the 'Sumas' port:\", round(prediction_2026_01_01[0], 2))\n"
   ]
  },
  {
   "cell_type": "code",
   "execution_count": null,
   "metadata": {},
   "outputs": [],
   "source": [
    "\n",
    "predictions_2026_01_01 = {}\n",
    "\n",
    "for port_name, trained_model in trained_models.items():\n",
    "\n",
    "    prediction = trained_model.forecast(steps=1, index=pd.to_datetime([prediction_date]))\n",
    "    predictions_2026_01_01[port_name] = round(prediction[0], 2)\n",
    "\n",
    "print(\"Predictions for January 1, 2026:\")\n",
    "for port_name, prediction in predictions_2026_01_01.items():\n",
    "    print(f\"Port: {port_name}, Predicted Value: {prediction}\")"
   ]
  },
  {
   "cell_type": "code",
   "execution_count": null,
   "metadata": {},
   "outputs": [],
   "source": [
    "saved_data = {\n",
    "    'trained_models': trained_models,\n",
    "    'evaluation_metrics': evaluation_metrics,\n",
    "    'average_mae': average_mae,\n",
    "    'average_rmse': average_rmse,\n",
    "    'predictions_2026_01_01': predictions_2026_01_01\n",
    "}\n",
    "\n",
    "pickle_file = 'trained_models.pkl'\n",
    "\n",
    "with open(pickle_file, 'wb') as f:\n",
    "    pickle.dump(saved_data, f)\n",
    "\n",
    "print(f\"Data saved to {pickle_file}\")\n"
   ]
  },
  {
   "cell_type": "code",
   "execution_count": null,
   "metadata": {},
   "outputs": [],
   "source": []
  },
  {
   "cell_type": "code",
   "execution_count": null,
   "metadata": {},
   "outputs": [],
   "source": []
  },
  {
   "cell_type": "code",
   "execution_count": null,
   "metadata": {},
   "outputs": [],
   "source": []
  }
 ],
 "metadata": {
  "language_info": {
   "name": "python"
  }
 },
 "nbformat": 4,
 "nbformat_minor": 2
}
